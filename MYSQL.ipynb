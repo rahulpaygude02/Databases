{
 "cells": [
  {
   "cell_type": "code",
   "execution_count": 1,
   "metadata": {},
   "outputs": [],
   "source": [
    "import mysql.connector as connection"
   ]
  },
  {
   "cell_type": "code",
   "execution_count": 2,
   "metadata": {},
   "outputs": [
    {
     "name": "stdout",
     "output_type": "stream",
     "text": [
      "True\n"
     ]
    }
   ],
   "source": [
    "#check whether the connection is establihsed\n",
    "mydb=connection.connect(host='localhost',user='root',passwd='Flyhorse@123',use_pure=True)\n",
    "print(mydb.is_connected())"
   ]
  },
  {
   "cell_type": "code",
   "execution_count": 3,
   "metadata": {},
   "outputs": [
    {
     "name": "stdout",
     "output_type": "stream",
     "text": [
      "[('information_schema',), ('myfirstsql',), ('myfirstsql1',), ('myfirstsql3',), ('mysql',), ('performance_schema',), ('sakila',), ('sys',), ('world',)]\n"
     ]
    }
   ],
   "source": [
    "#find all databases\n",
    "\n",
    "query='SHOW DATABASES'\n",
    "cursor = mydb.cursor()   #create cursor to excecute query\n",
    "cursor.execute(query)\n",
    "print(cursor.fetchall())\n"
   ]
  },
  {
   "cell_type": "code",
   "execution_count": 4,
   "metadata": {},
   "outputs": [
    {
     "name": "stdout",
     "output_type": "stream",
     "text": [
      "database is created\n"
     ]
    }
   ],
   "source": [
    "#creating a new db\n",
    "query='Create database rahulorg'\n",
    "cursor = mydb.cursor()   #create cursor to excecute query\n",
    "cursor.execute(query)\n",
    "print('database is created')\n",
    "\n"
   ]
  },
  {
   "cell_type": "code",
   "execution_count": 8,
   "metadata": {},
   "outputs": [
    {
     "name": "stdout",
     "output_type": "stream",
     "text": [
      "Table Created!!\n"
     ]
    }
   ],
   "source": [
    "#creating a table inside a db\n",
    "mydb=connection.connect(host='localhost',database='rahulorg',user='root',passwd='Flyhorse@123',use_pure=True)\n",
    "query= \"CREATE TABLE Orgdetails (EmpId INT(10) ,FirstName VARCHAR(20),LastName VARCHAR(60), RegistrationDate DATE ,Department Varchar(20), Section Varchar(10))\"\n",
    "\n",
    "cursor = mydb.cursor() #create a cursor to execute queries\n",
    "cursor.execute(query)\n",
    "print(\"Table Created!!\")"
   ]
  },
  {
   "cell_type": "code",
   "execution_count": 11,
   "metadata": {},
   "outputs": [
    {
     "name": "stdout",
     "output_type": "stream",
     "text": [
      "Values inserted into the table!!\n"
     ]
    }
   ],
   "source": [
    "mydb=connection.connect(host='localhost',database='rahulorg',user='root',passwd='Flyhorse@123',use_pure=True)\n",
    "query = \"INSERT INTO Orgdetails VALUES ('1144','rahul','Paygude','1997-11-11','Eleventh','A')\"\n",
    "\n",
    "cursor = mydb.cursor() #create a cursor to execute queries\n",
    "cursor.execute(query)\n",
    "print(\"Values inserted into the table!!\")\n",
    "mydb.commit()\n",
    "mydb.close()"
   ]
  },
  {
   "cell_type": "code",
   "execution_count": 14,
   "metadata": {},
   "outputs": [
    {
     "name": "stdout",
     "output_type": "stream",
     "text": [
      "Values inserted into the table!!\n"
     ]
    }
   ],
   "source": [
    "#updating details\n",
    "mydb=connection.connect(host='localhost',database='rahulorg',user='root',passwd='Flyhorse@123',use_pure=True)\n",
    "query = \"UPDATE Orgdetails SET FirstName='ROHIT' ,Lastname='mokashi' WHERE EmpId=1144\"\n",
    "cursor = mydb.cursor() #create a cursor to execute queries\n",
    "cursor.execute(query)\n",
    "print(\"Values inserted into the table!!\")\n",
    "mydb.commit()"
   ]
  },
  {
   "cell_type": "code",
   "execution_count": 15,
   "metadata": {},
   "outputs": [
    {
     "name": "stdout",
     "output_type": "stream",
     "text": [
      "(1144, 'ROHIT', 'mokashi', datetime.date(1997, 11, 11), 'Eleventh', 'A')\n"
     ]
    }
   ],
   "source": [
    "#lets check whether the data is updated or not\n",
    "\n",
    "query = \"select * from Orgdetails where EmpId=1144\"\n",
    "cursor = mydb.cursor() #create a cursor to execute queries\n",
    "cursor.execute(query)\n",
    "\n",
    "for i in cursor.fetchall():\n",
    "    print(i)"
   ]
  },
  {
   "cell_type": "code",
   "execution_count": 18,
   "metadata": {},
   "outputs": [],
   "source": [
    "#Delete data from table\n",
    "\n",
    "query = \"DELETE from Orgdetails where EmpId=1144\"\n",
    "cursor = mydb.cursor() #create a cursor to execute queries\n",
    "cursor.execute(query)\n",
    "mydb.commit()"
   ]
  },
  {
   "cell_type": "code",
   "execution_count": 24,
   "metadata": {},
   "outputs": [
    {
     "name": "stdout",
     "output_type": "stream",
     "text": [
      "Values inserted into the table!!\n"
     ]
    }
   ],
   "source": [
    "mydb=connection.connect(host='localhost',database='rahulorg',user='root',passwd='Flyhorse@123',use_pure=True)\n",
    "query = \"INSERT INTO Orgdetails VALUES ('1137','dhan','Paygude','1997-11-11','com','A')\"\n",
    "\n",
    "cursor = mydb.cursor() #create a cursor to execute queries\n",
    "cursor.execute(query)\n",
    "print(\"Values inserted into the table!!\")\n",
    "mydb.commit()\n",
    "mydb.close()"
   ]
  },
  {
   "cell_type": "code",
   "execution_count": 54,
   "metadata": {},
   "outputs": [
    {
     "name": "stdout",
     "output_type": "stream",
     "text": [
      "Values inserted into the table!!\n",
      "(1135,)\n",
      "(1137,)\n"
     ]
    }
   ],
   "source": [
    "mydb=connection.connect(host='localhost',database='rahulorg',user='root',passwd='Flyhorse@123',use_pure=True)\n",
    "query = \"SELECT empid FROM Orgdetails WHERE (Department='com') GROUP BY Empid ORDER BY Department\"\n",
    "cursor = mydb.cursor() #create a cursor to execute queries\n",
    "cursor.execute(query)\n",
    "print(\"Values inserted into the table!!\")\n",
    "\n",
    "for i in cursor.fetchall():\n",
    "    print(i)\n",
    "\n"
   ]
  },
  {
   "cell_type": "code",
   "execution_count": null,
   "metadata": {},
   "outputs": [],
   "source": []
  }
 ],
 "metadata": {
  "kernelspec": {
   "display_name": "Python 3",
   "language": "python",
   "name": "python3"
  },
  "language_info": {
   "codemirror_mode": {
    "name": "ipython",
    "version": 3
   },
   "file_extension": ".py",
   "mimetype": "text/x-python",
   "name": "python",
   "nbconvert_exporter": "python",
   "pygments_lexer": "ipython3",
   "version": "3.7.6"
  }
 },
 "nbformat": 4,
 "nbformat_minor": 4
}
